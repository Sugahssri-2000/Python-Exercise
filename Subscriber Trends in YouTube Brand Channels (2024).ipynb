{
 "cells": [
  {
   "cell_type": "code",
   "execution_count": 1,
   "id": "9a281093",
   "metadata": {},
   "outputs": [],
   "source": [
    "import pandas as pd\n",
    "import matplotlib.pyplot as plt\n",
    "import seaborn as sns\n",
    "\n",
    "#Load the dataset\n",
    "data = pd.read_csv(\"youtube_dataset.csv\")"
   ]
  },
  {
   "cell_type": "code",
   "execution_count": 2,
   "id": "0e729b38",
   "metadata": {},
   "outputs": [
    {
     "name": "stdout",
     "output_type": "stream",
     "text": [
      "Head of the dataset:\n",
      "                         Name Brand channel  Subscribers (millions)  \\\n",
      "0                     MrBeast            No                   335.0   \n",
      "1                    T-Series           Yes                   280.0   \n",
      "2  Cocomelon - Nursery Rhymes           Yes                   186.0   \n",
      "3                   SET India           Yes                   180.0   \n",
      "4               Vlad and Niki            No                   129.0   \n",
      "\n",
      "  Primary language       Category        Country  \n",
      "0          English  Entertainment  United States  \n",
      "1            Hindi          Music          India  \n",
      "2          English      Education  United States  \n",
      "3            Hindi  Entertainment          India  \n",
      "4          English  Entertainment         Russia  \n",
      "Tail of the dataset:\n",
      "                   Name Brand channel  Subscribers (millions)  \\\n",
      "45       ARY Digital HD           Yes                    59.7   \n",
      "46        Fede Vigevani            No                    59.4   \n",
      "47          LooLoo Kids           Yes                    59.3   \n",
      "48  BillionSurpriseToys           Yes                    57.6   \n",
      "49           Marshmello            No                    57.5   \n",
      "\n",
      "   Primary language       Category        Country  \n",
      "45             Urdu  Entertainment       Pakistan  \n",
      "46          Spanish  Entertainment         Mexico  \n",
      "47          English          Music        Romania  \n",
      "48          English  Entertainment  United States  \n",
      "49          English          Music  United States  \n"
     ]
    }
   ],
   "source": [
    "#Print the head and the tail of the dataset\n",
    "\n",
    "print(\"Head of the dataset:\")\n",
    "print(data.head())\n",
    "\n",
    "print(\"Tail of the dataset:\")\n",
    "print(data.tail())"
   ]
  },
  {
   "cell_type": "code",
   "execution_count": 3,
   "id": "d7f16585",
   "metadata": {},
   "outputs": [
    {
     "data": {
      "text/plain": [
       "(50, 6)"
      ]
     },
     "execution_count": 3,
     "metadata": {},
     "output_type": "execute_result"
    }
   ],
   "source": [
    "rows, columns = data.shape\n",
    "rows, columns"
   ]
  },
  {
   "cell_type": "markdown",
   "id": "d1c346b9",
   "metadata": {},
   "source": [
    "# Question 1: What are the top 3 category with the highest number of subscribers?"
   ]
  },
  {
   "cell_type": "code",
   "execution_count": 18,
   "id": "8bc763a3",
   "metadata": {},
   "outputs": [
    {
     "name": "stdout",
     "output_type": "stream",
     "text": [
      "\n",
      "Top 5 brand channels with the highest number of subscribers:\n",
      "        Category  Subscribers (millions)\n",
      "0  Entertainment                   335.0\n",
      "1          Music                   280.0\n",
      "2      Education                   186.0\n"
     ]
    }
   ],
   "source": [
    "top_5_subscribers = data.sort_values(by='Subscribers (millions)', ascending=False).head(3)\n",
    "print(\"\\nTop 5 brand channels with the highest number of subscribers:\")\n",
    "print(top_5_subscribers[['Category', 'Subscribers (millions)']])"
   ]
  },
  {
   "cell_type": "markdown",
   "id": "6ba1e6fe",
   "metadata": {},
   "source": [
    "# Question 2: How many unique countires are represented in the dataset?"
   ]
  },
  {
   "cell_type": "code",
   "execution_count": 4,
   "id": "7cd6e3df",
   "metadata": {},
   "outputs": [
    {
     "data": {
      "text/plain": [
       "array(['United States', 'India', 'Russia', 'United States \\xa0Ukraine',\n",
       "       'Sweden \\xa0Japan', 'South Korea', 'Cyprus[a]', 'Canada',\n",
       "       'Portugal', 'Belarus', 'United Arab Emirates', 'Brazil',\n",
       "       'Argentina', 'Pakistan', 'Mexico', 'Romania'], dtype=object)"
      ]
     },
     "execution_count": 4,
     "metadata": {},
     "output_type": "execute_result"
    }
   ],
   "source": [
    "unique_Country = data['Country'].unique()\n",
    "unique_Country"
   ]
  },
  {
   "cell_type": "code",
   "execution_count": 6,
   "id": "330ff10b",
   "metadata": {},
   "outputs": [
    {
     "name": "stdout",
     "output_type": "stream",
     "text": [
      "Number of unique countries: 16\n"
     ]
    }
   ],
   "source": [
    "unique_Country = data['Country'].nunique()\n",
    "print(\"Number of unique countries:\", unique_Country)"
   ]
  },
  {
   "cell_type": "markdown",
   "id": "f9106779",
   "metadata": {},
   "source": [
    "# Question 3: Which category has the most brand channels?"
   ]
  },
  {
   "cell_type": "code",
   "execution_count": 19,
   "id": "c398e55e",
   "metadata": {},
   "outputs": [
    {
     "name": "stdout",
     "output_type": "stream",
     "text": [
      "Category with the most brand channels: Entertainment\n"
     ]
    }
   ],
   "source": [
    "category_most_channels = data['Category'].value_counts().idxmax()\n",
    "print(\"Category with the most brand channels:\", category_most_channels)"
   ]
  },
  {
   "cell_type": "markdown",
   "id": "caa8eaf1",
   "metadata": {},
   "source": [
    "# Question 4: What is the average number of subscribers for each category?"
   ]
  },
  {
   "cell_type": "code",
   "execution_count": 23,
   "id": "20fcd7bc",
   "metadata": {},
   "outputs": [
    {
     "name": "stdout",
     "output_type": "stream",
     "text": [
      "Average number of subscribers for each category:\n",
      "Category\n",
      "Comedy                      60.60\n",
      "Education                  106.50\n",
      "Education/Entertainment     60.20\n",
      "Entertainment              101.26\n",
      "Entertainment/Sports        71.30\n",
      "Film                        81.90\n",
      "How-to                      81.10\n",
      "Lifestyle Vlogs             62.20\n",
      "Music                       83.77\n",
      "News                        68.60\n",
      "Sports                     105.00\n",
      "Name: Subscribers (millions), dtype: float64\n"
     ]
    }
   ],
   "source": [
    "avg_subscribers_category = data.groupby('Category')['Subscribers (millions)'].mean().round(2)\n",
    "print(\"Average number of subscribers for each category:\")\n",
    "print(avg_subscribers_category)"
   ]
  },
  {
   "cell_type": "markdown",
   "id": "bf2eee9e",
   "metadata": {},
   "source": [
    "# Question 5: Which category has the least number of subscribers?"
   ]
  },
  {
   "cell_type": "code",
   "execution_count": 25,
   "id": "98896522",
   "metadata": {},
   "outputs": [
    {
     "name": "stdout",
     "output_type": "stream",
     "text": [
      "Category with the least number of subscribers:\n",
      "Category                  Music\n",
      "Subscribers (millions)     57.5\n",
      "Name: 49, dtype: object\n"
     ]
    }
   ],
   "source": [
    "least_subscribers = data.loc[data['Subscribers (millions)'].idxmin()]\n",
    "print(\"Category with the least number of subscribers:\")\n",
    "print(least_subscribers[['Category', 'Subscribers (millions)']])"
   ]
  },
  {
   "cell_type": "markdown",
   "id": "682f70c2",
   "metadata": {},
   "source": [
    "# Question 6: What is the total number of subscribers across all category?"
   ]
  },
  {
   "cell_type": "code",
   "execution_count": 27,
   "id": "40668fb2",
   "metadata": {},
   "outputs": [
    {
     "name": "stdout",
     "output_type": "stream",
     "text": [
      "Total number of subscribers across all category:  4548.1\n"
     ]
    }
   ],
   "source": [
    "total_subscribers = data['Subscribers (millions)'].sum()\n",
    "print(\"Total number of subscribers across all category: \", total_subscribers)"
   ]
  },
  {
   "cell_type": "markdown",
   "id": "fd49411f",
   "metadata": {},
   "source": [
    "# Question 7: How many category are there for each primary language?"
   ]
  },
  {
   "cell_type": "code",
   "execution_count": 31,
   "id": "964e4944",
   "metadata": {},
   "outputs": [
    {
     "name": "stdout",
     "output_type": "stream",
     "text": [
      "\n",
      "Number of category fro each primary language:\n",
      " English                21\n",
      "Hindi                  15\n",
      "Korean                  4\n",
      "Spanish                 2\n",
      "Urdu                    2\n",
      "Portuguese, English     1\n",
      "Russian                 1\n",
      "Arabic                  1\n",
      "Portuguese              1\n",
      "Bhojpuri                1\n",
      "Malayalam               1\n",
      "Name: Primary language, dtype: int64\n"
     ]
    }
   ],
   "source": [
    "category_per_language = data['Primary language'].value_counts()\n",
    "print(\"\\nNumber of category fro each primary language:\\n\", category_per_language)"
   ]
  },
  {
   "cell_type": "markdown",
   "id": "10fb846e",
   "metadata": {},
   "source": [
    "# Question 8: Which country has the highest number of brand channels?"
   ]
  },
  {
   "cell_type": "code",
   "execution_count": 32,
   "id": "ba59ef76",
   "metadata": {},
   "outputs": [
    {
     "name": "stdout",
     "output_type": "stream",
     "text": [
      "Country with the highest number of brand channels: India\n"
     ]
    }
   ],
   "source": [
    "country_most_channels = data['Country'].value_counts().idxmax()\n",
    "print(\"Country with the highest number of brand channels:\", country_most_channels)"
   ]
  },
  {
   "cell_type": "markdown",
   "id": "985cfa29",
   "metadata": {},
   "source": [
    "# Question 9: What is the percentage of brand channels from each country?"
   ]
  },
  {
   "cell_type": "code",
   "execution_count": 38,
   "id": "1440e545",
   "metadata": {},
   "outputs": [
    {
     "name": "stdout",
     "output_type": "stream",
     "text": [
      "Percentage of brand channels from each country:\n",
      " India                     34.0\n",
      "United States             26.0\n",
      "South Korea               10.0\n",
      "United States  Ukraine     4.0\n",
      "Pakistan                   4.0\n",
      "Russia                     2.0\n",
      "Sweden  Japan              2.0\n",
      "Cyprus[a]                  2.0\n",
      "Canada                     2.0\n",
      "Portugal                   2.0\n",
      "Belarus                    2.0\n",
      "United Arab Emirates       2.0\n",
      "Brazil                     2.0\n",
      "Argentina                  2.0\n",
      "Mexico                     2.0\n",
      "Romania                    2.0\n",
      "Name: Country, dtype: float64\n"
     ]
    }
   ],
   "source": [
    "country_percentage = data['Country'].value_counts(normalize=True) * 100\n",
    "print(\"Percentage of brand channels from each country:\\n\", country_percentage)"
   ]
  },
  {
   "cell_type": "markdown",
   "id": "ec124284",
   "metadata": {},
   "source": [
    "# Question 10: List all category that have subscribers greater than 10 million."
   ]
  },
  {
   "cell_type": "code",
   "execution_count": 36,
   "id": "bb1c5488",
   "metadata": {},
   "outputs": [
    {
     "name": "stdout",
     "output_type": "stream",
     "text": [
      "Category with subscribers greater than 10 million:\n",
      "                   Category  Subscribers (millions)\n",
      "0             Entertainment                   335.0\n",
      "1                     Music                   280.0\n",
      "2                 Education                   186.0\n",
      "3             Entertainment                   180.0\n",
      "4             Entertainment                   129.0\n",
      "5             Entertainment                   128.0\n",
      "6             Entertainment                   123.0\n",
      "7                     Music                   112.0\n",
      "8             Entertainment                   110.0\n",
      "9                    Sports                   105.0\n",
      "10                     Film                   101.0\n",
      "11            Entertainment                   100.0\n",
      "12            Entertainment                    97.5\n",
      "13                    Music                    95.3\n",
      "14                Education                    94.2\n",
      "15            Entertainment                    86.0\n",
      "16                   How-to                    81.1\n",
      "17                    Music                    79.4\n",
      "18                Education                    79.2\n",
      "19            Entertainment                    77.5\n",
      "20                    Music                    76.2\n",
      "21                    Music                    74.4\n",
      "22                    Music                    72.5\n",
      "23            Entertainment                    71.9\n",
      "24     Entertainment/Sports                    71.3\n",
      "25            Entertainment                    71.1\n",
      "26            Entertainment                    70.8\n",
      "27                    Music                    70.2\n",
      "28            Entertainment                    69.2\n",
      "29            Entertainment                    68.9\n",
      "30                     News                    68.6\n",
      "31            Entertainment                    67.9\n",
      "32                    Music                    67.5\n",
      "33                    Music                    67.0\n",
      "34                Education                    66.6\n",
      "35                    Music                    63.6\n",
      "36                    Music                    63.2\n",
      "37                    Music                    62.8\n",
      "38                     Film                    62.8\n",
      "39                    Music                    62.8\n",
      "40            Entertainment                    62.7\n",
      "41          Lifestyle Vlogs                    62.2\n",
      "42                   Comedy                    60.6\n",
      "43                    Music                    60.4\n",
      "44  Education/Entertainment                    60.2\n",
      "45            Entertainment                    59.7\n",
      "46            Entertainment                    59.4\n",
      "47                    Music                    59.3\n",
      "48            Entertainment                    57.6\n",
      "49                    Music                    57.5\n"
     ]
    }
   ],
   "source": [
    "channels_gt_10m = data[data['Subscribers (millions)'] > 10]\n",
    "print(\"Category with subscribers greater than 10 million:\")\n",
    "print(channels_gt_10m[['Category', 'Subscribers (millions)']])"
   ]
  },
  {
   "cell_type": "markdown",
   "id": "8c218dd8",
   "metadata": {},
   "source": [
    "# Question 11: Which primary language is most common among brand channels?"
   ]
  },
  {
   "cell_type": "code",
   "execution_count": 39,
   "id": "1d89c25a",
   "metadata": {},
   "outputs": [
    {
     "name": "stdout",
     "output_type": "stream",
     "text": [
      "Most common primary language:  English\n"
     ]
    }
   ],
   "source": [
    "most_common_language = data['Primary language'].mode()[0]\n",
    "print(\"Most common primary language: \", most_common_language)"
   ]
  },
  {
   "cell_type": "markdown",
   "id": "ef936d8b",
   "metadata": {},
   "source": [
    "# Question 12: What is the median number of subscribers for each category?"
   ]
  },
  {
   "cell_type": "code",
   "execution_count": 69,
   "id": "ef234eed",
   "metadata": {},
   "outputs": [
    {
     "name": "stdout",
     "output_type": "stream",
     "text": [
      "Median number of subscrubers for each category:\n",
      "Category\n",
      "Comedy                      60.6\n",
      "Education                   86.7\n",
      "Education/Entertainment     60.2\n",
      "Entertainment               74.7\n",
      "Entertainment/Sports        71.3\n",
      "Film                        81.9\n",
      "How-to                      81.1\n",
      "Lifestyle Vlogs             62.2\n",
      "Music                       67.5\n",
      "News                        68.6\n",
      "Sports                     105.0\n",
      "Name: Subscribers (millions), dtype: float64\n"
     ]
    }
   ],
   "source": [
    "median_subscribers_category = data.groupby('Category')['Subscribers (millions)'].median()\n",
    "print(\"Median number of subscrubers for each category:\")\n",
    "print(median_subscribers_category)"
   ]
  },
  {
   "cell_type": "markdown",
   "id": "431ec465",
   "metadata": {},
   "source": [
    "# Question 13: How many brand channels are from a particular country (eg: USA)?"
   ]
  },
  {
   "cell_type": "code",
   "execution_count": 71,
   "id": "ac67156f",
   "metadata": {},
   "outputs": [
    {
     "name": "stdout",
     "output_type": "stream",
     "text": [
      "Number of brand channels from United States: 13\n"
     ]
    }
   ],
   "source": [
    "channels_from_us = data[data['Country'] == 'United States'].shape[0]\n",
    "print(\"Number of brand channels from United States:\", channels_from_us)"
   ]
  },
  {
   "cell_type": "markdown",
   "id": "f9897767",
   "metadata": {},
   "source": [
    "# Question 14: Which category has the largest average number of subscribers per channel?"
   ]
  },
  {
   "cell_type": "code",
   "execution_count": 73,
   "id": "10487fe3",
   "metadata": {},
   "outputs": [
    {
     "name": "stdout",
     "output_type": "stream",
     "text": [
      "Category with the largest average number of subscribers per channel: Education\n"
     ]
    }
   ],
   "source": [
    "category_largest_avg_sub = avg_subscribers_category.idxmax()\n",
    "print(\"Category with the largest average number of subscribers per channel:\", category_largest_avg_sub)"
   ]
  },
  {
   "cell_type": "markdown",
   "id": "50067e0e",
   "metadata": {},
   "source": [
    "# Question 15: Is there a correlation between the number of subscribers and the country of origin?"
   ]
  },
  {
   "cell_type": "code",
   "execution_count": 76,
   "id": "a489294e",
   "metadata": {},
   "outputs": [
    {
     "name": "stdout",
     "output_type": "stream",
     "text": [
      "Correlation between number of subscribers and country:\n",
      "                        Subscribers (millions)  Country_encoded\n",
      "Subscribers (millions)                 1.00000         -0.24473\n",
      "Country_encoded                       -0.24473          1.00000\n"
     ]
    }
   ],
   "source": [
    "data_encoded = data.copy()\n",
    "data_encoded['Country_encoded'] = pd.factorize(data['Country'])[0]\n",
    "correlation = data_encoded[['Subscribers (millions)', 'Country_encoded']].corr()\n",
    "print(\"Correlation between number of subscribers and country:\")\n",
    "print(correlation)"
   ]
  },
  {
   "cell_type": "code",
   "execution_count": 78,
   "id": "22f53e9b",
   "metadata": {},
   "outputs": [
    {
     "data": {
      "text/plain": [
       "<function matplotlib.pyplot.show(close=None, block=None)>"
      ]
     },
     "execution_count": 78,
     "metadata": {},
     "output_type": "execute_result"
    },
    {
     "data": {
      "image/png": "[encoded data removed]",
      "text/plain": [
       "<Figure size 640x480 with 1 Axes>"
      ]
     },
     "metadata": {},
     "output_type": "display_data"
    }
   ],
   "source": [
    "data['Country'].value_counts().plot(kind='bar', color='skyblue')\n",
    "plt.title('Number of Countries has more Subscribers')\n",
    "plt.xlabel('Countries')\n",
    "plt.ylabel('Subscribers')\n",
    "plt.show"
   ]
  },
  {
   "cell_type": "code",
   "execution_count": 82,
   "id": "0cd8cb6a",
   "metadata": {},
   "outputs": [
    {
     "data": {
      "image/png": "[encoded data removed]",
      "text/plain": [
       "<Figure size 640x480 with 1 Axes>"
      ]
     },
     "metadata": {},
     "output_type": "display_data"
    }
   ],
   "source": [
    "data['Primary language'].value_counts().plot(kind='pie', autopct='%1.1f%%')\n",
    "plt.title('Primary language youtube language subscribers')\n",
    "plt.ylabel('')  #Hide the ylabel for better presentation\n",
    "plt.show()"
   ]
  }
 ],
 "metadata": {
  "kernelspec": {
   "display_name": "Python 3 (ipykernel)",
   "language": "python",
   "name": "python3"
  },
  "language_info": {
   "codemirror_mode": {
    "name": "ipython",
    "version": 3
   },
   "file_extension": ".py",
   "mimetype": "text/x-python",
   "name": "python",
   "nbconvert_exporter": "python",
   "pygments_lexer": "ipython3",
   "version": "3.9.13"
  }
 },
 "nbformat": 4,
 "nbformat_minor": 5
}
